{
 "cells": [
  {
   "cell_type": "code",
   "execution_count": 8,
   "metadata": {},
   "outputs": [
    {
     "name": "stdout",
     "output_type": "stream",
     "text": [
      "1택시 타고 가라\n",
      "2걸어가라\n",
      "3택시를 타고 가라\n",
      "True\n",
      "False\n"
     ]
    }
   ],
   "source": [
    "money = True\n",
    "\n",
    "if money:\n",
    "    print(\"1택시 타고 가라\")\n",
    "else:\n",
    "    print(\"1걸어가라\")\n",
    "\n",
    "money = 2000\n",
    "\n",
    "if money >= 3000:\n",
    "    print(\"2택시를 타고 가라\")\n",
    "else:\n",
    "    print(\"2걸어가라\")\n",
    "\n",
    "money = 2000\n",
    "card = True\n",
    "\n",
    "if money >= 3000 or card:\n",
    "    print(\"3택시를 타고 가라\")\n",
    "else:\n",
    "    print(\"3걸어가라\")\n",
    "\n",
    "print(1 in [1, 2, 3])\n",
    "print(1 not in [1, 2, 3])\n"
   ]
  }
 ],
 "metadata": {
  "interpreter": {
   "hash": "106832e32ba7da4ffb07d075eea9e92cc8fc53613e1f08df190406bdc6a3f309"
  },
  "kernelspec": {
   "display_name": "Python 3.9.6 64-bit",
   "language": "python",
   "name": "python3"
  },
  "language_info": {
   "codemirror_mode": {
    "name": "ipython",
    "version": 3
   },
   "file_extension": ".py",
   "mimetype": "text/x-python",
   "name": "python",
   "nbconvert_exporter": "python",
   "pygments_lexer": "ipython3",
   "version": "3.9.7"
  },
  "orig_nbformat": 4
 },
 "nbformat": 4,
 "nbformat_minor": 2
}

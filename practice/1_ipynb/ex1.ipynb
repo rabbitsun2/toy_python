{
 "cells": [
  {
   "cell_type": "code",
   "execution_count": 1,
   "metadata": {},
   "outputs": [
    {
     "name": "stdout",
     "output_type": "stream",
     "text": [
      "직각삼각형 그리기\n",
      "\n",
      "변의 길이: 2\n"
     ]
    }
   ],
   "source": [
    "print('직각삼각형 그리기\\n')\n",
    "leg = int(input('변의 길이: '))"
   ]
  },
  {
   "cell_type": "code",
   "execution_count": 2,
   "metadata": {},
   "outputs": [
    {
     "name": "stdout",
     "output_type": "stream",
     "text": [
      "변의 길이: 3\n",
      "* \n",
      "* * \n",
      "* * * \n",
      "넓이: 4.5\n"
     ]
    }
   ],
   "source": [
    "leg = int(input('변의 길이: '))\n",
    "\n",
    "for i in range(leg):\n",
    "    print('* ' * (i + 1))\n",
    "    \n",
    "area = (leg ** 2) / 2\n",
    "print('넓이:', area)"
   ]
  },
  {
   "cell_type": "code",
   "execution_count": null,
   "metadata": {},
   "outputs": [],
   "source": []
  }
 ],
 "metadata": {
  "kernelspec": {
   "display_name": "Python 3",
   "language": "python",
   "name": "python3"
  },
  "language_info": {
   "codemirror_mode": {
    "name": "ipython",
    "version": 3
   },
   "file_extension": ".py",
   "mimetype": "text/x-python",
   "name": "python",
   "nbconvert_exporter": "python",
   "pygments_lexer": "ipython3",
   "version": "3.8.5"
  }
 },
 "nbformat": 4,
 "nbformat_minor": 4
}

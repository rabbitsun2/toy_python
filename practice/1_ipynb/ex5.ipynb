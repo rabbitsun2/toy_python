{
 "cells": [
  {
   "cell_type": "code",
   "execution_count": 7,
   "metadata": {},
   "outputs": [
    {
     "name": "stdout",
     "output_type": "stream",
     "text": [
      "1택시를 타고 가라\n",
      "2택시를 타고 가라\n",
      "3택시를 타고 가라\n",
      "failure\n"
     ]
    }
   ],
   "source": [
    "pocket = ['paper', 'cellphone', 'money']\n",
    "\n",
    "if 'money' in pocket:\n",
    "    print(\"1택시를 타고 가라\")\n",
    "else:\n",
    "    print(\"1걸어가라\")\n",
    "\n",
    "# 복잡한 if문 구조\n",
    "pocket = ['paper', 'handphone']\n",
    "card = True\n",
    "\n",
    "if 'money' in pocket:\n",
    "    print(\"2택시를 타고가라\")\n",
    "else:\n",
    "    if card:\n",
    "        print(\"2택시를 타고 가라\")\n",
    "    else:\n",
    "        print(\"2걸어가라\")\n",
    "\n",
    "# elif 사용하기\n",
    "pocket = ['paper', 'cellphone']\n",
    "card = True\n",
    "\n",
    "if 'money' in pocket:\n",
    "    print(\"3택시를 타고 가라\")\n",
    "elif card:\n",
    "    print(\"3택시를 타고 가라\")\n",
    "else:\n",
    "    print(\"3걸어가라\")\n",
    "\n",
    "# 조건부 표현식\n",
    "\n",
    "score = 20\n",
    "\n",
    "if score >= 60:\n",
    "    message = \"success\"\n",
    "else:\n",
    "    message = \"failure\"\n",
    "\n",
    "print(message)\n"
   ]
  }
 ],
 "metadata": {
  "interpreter": {
   "hash": "106832e32ba7da4ffb07d075eea9e92cc8fc53613e1f08df190406bdc6a3f309"
  },
  "kernelspec": {
   "display_name": "Python 3.9.6 64-bit",
   "language": "python",
   "name": "python3"
  },
  "language_info": {
   "codemirror_mode": {
    "name": "ipython",
    "version": 3
   },
   "file_extension": ".py",
   "mimetype": "text/x-python",
   "name": "python",
   "nbconvert_exporter": "python",
   "pygments_lexer": "ipython3",
   "version": "3.9.6"
  },
  "orig_nbformat": 4
 },
 "nbformat": 4,
 "nbformat_minor": 2
}
